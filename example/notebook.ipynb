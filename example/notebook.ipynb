{
 "cells": [
  {
   "cell_type": "code",
   "execution_count": null,
   "metadata": {},
   "outputs": [],
   "source": [
    "# Import useful libraries\n",
    "import json, pandas as pd, pydeck as pdk, ee, ipyfilechooser, ipywidgets, datetime, ee_satellites"
   ]
  },
  {
   "cell_type": "code",
   "execution_count": null,
   "metadata": {},
   "outputs": [],
   "source": [
    "# Initializes the Google Earth Engine APIs\n",
    "ee.Authenticate()\n",
    "ee.Initialize()"
   ]
  },
  {
   "attachments": {},
   "cell_type": "markdown",
   "metadata": {},
   "source": [
    "# **Features Extraction**\n",
    "\n",
    "Feature extraction is fundamental in Earth Observation (EO) because it enables us to extract valuable information from large and complex satellite data. EO is a field that involves the collection and analysis of data about the Earth's surface and atmosphere from satellites and other airborne sensors. The data acquired from these sensors are usually vast, complex, and contain a wealth of information that needs to be extracted to make sense of them."
   ]
  },
  {
   "attachments": {},
   "cell_type": "markdown",
   "metadata": {},
   "source": [
    "## **Import a JSON file containing crop fields details**\n",
    "\n",
    "The structure of the JSON file must comply with two very simple rules ([example](areas-of-interest.json)):\n",
    "* it should contain the **crop field name** (preferred if each crop field have a unique name)\n",
    "* it should contain the **set of coordinates** that are composing the single crop field (closed polygon geometry)"
   ]
  },
  {
   "cell_type": "code",
   "execution_count": null,
   "metadata": {},
   "outputs": [],
   "source": [
    "# Choose the file (it must be a JSON file)\n",
    "file_chooser = ipyfilechooser.FileChooser(path='./', filename='areas-of-interest.json', select_default=True, use_dir_icons=True, filter_pattern='*.json')\n",
    "display(file_chooser)"
   ]
  },
  {
   "cell_type": "code",
   "execution_count": null,
   "metadata": {},
   "outputs": [],
   "source": [
    "# Load JSON data from file\n",
    "with open(file_chooser.selected) as f:\n",
    "    data = json.load(f)\n",
    "\n",
    "# Create DataFrame with properties excluding 'manure_dates' column\n",
    "fields_df = pd.DataFrame([{k:v for k,v in f['properties'].items()} for f in data['features']])\n",
    "\n",
    "# Add column with coordinates for each field\n",
    "fields_df['polygon_coordinates'] = [[tuple(c) for c in p] for f in data['features'] for p in f['geometry']['coordinates']]\n",
    "\n",
    "# Show the entire dataframe\n",
    "display(fields_df)"
   ]
  },
  {
   "attachments": {},
   "cell_type": "markdown",
   "metadata": {},
   "source": [
    "## **Show crop fields locations on Earth-map**\n",
    "The objective is to show where our crop fields are geographically placed. This can provide several benefits, including:\n",
    "* **Spatial context:** it can provide a spatial context that makes it easier to understand the geographic distribution of the fields. This can be especially useful for people who are not familiar with the area or the crops being considered\n",
    "* **Data exploration:** it can make it easier to explore the data contained in the JSON file. Users can zoom in and out, pan, and filter the data to focus on specific areas or types of crops\n",
    "* **Data validation:** it can help validate the data contained in the JSON file. Users can visually confirm that the crop fields are located in the correct locations, and identify any potential errors or discrepancies in the data\n",
    "* **Communication:** it can be a powerful way to communicate data to others. Users can share the map with stakeholders or the public to help them understand the geographic distribution of crop fields"
   ]
  },
  {
   "cell_type": "code",
   "execution_count": null,
   "metadata": {},
   "outputs": [],
   "source": [
    "# Define the layer with a tooltip\n",
    "layer = pdk.Layer(\n",
    "    'PolygonLayer',\n",
    "    data=fields_df,\n",
    "    get_polygon='polygon_coordinates',\n",
    "    get_fill_color=[255, 255, 0, 100],\n",
    "    get_line_color=[255, 255, 0, 100],\n",
    "    stroked=True,\n",
    "    filled=True,\n",
    "    lineWidthMinPixels=3,\n",
    "    pickable=True,\n",
    "    auto_highlight=True,\n",
    ")\n",
    "\n",
    "# Define the initial view state of the map\n",
    "view_state = pdk.ViewState(\n",
    "    longitude=fields_df.polygon_coordinates[0][0][0],\n",
    "    latitude=fields_df.polygon_coordinates[0][0][1],\n",
    "    zoom=12\n",
    ")\n",
    "\n",
    "# Create the map with the layers and the initial view state\n",
    "r = pdk.Deck(layers=layer, initial_view_state=view_state,)\n",
    "\n",
    "# Show the map\n",
    "r"
   ]
  },
  {
   "attachments": {},
   "cell_type": "markdown",
   "metadata": {},
   "source": [
    "It can be noticed that our fields are placed in the Northern part of Spain. Please consider generalization issue."
   ]
  },
  {
   "attachments": {},
   "cell_type": "markdown",
   "metadata": {},
   "source": [
    "## **Features extraction - using ee-satellites PyPI library**\n",
    "\n",
    "The objective is to generate a dataset that contains for each field, for each time the satellites (sentinel 1, sentinel 2 and landsat 8) have passed on the field (in a period, specified by the user), all the phisical indicators that will be further used to build the final model.\n",
    "\n",
    "This procedure has been designed to be performed in parallel in order to make multiple requests exploiting multi-threading.\n",
    "\n",
    "Why you should use `ee-satellites`? [`Ee-satellites`](../README.md) is a PyPI library that provides **a useful, user friendly and powerful toolset for extracting satellite data in Python** (exploiting GEE APIs), and can be a valuable resource for researchers, analysts, and others working with Earth observation data."
   ]
  },
  {
   "attachments": {},
   "cell_type": "markdown",
   "metadata": {},
   "source": [
    "### Select time-span to extract features"
   ]
  },
  {
   "cell_type": "code",
   "execution_count": null,
   "metadata": {},
   "outputs": [],
   "source": [
    "start_date_widget = ipywidgets.widgets.DatePicker(description='Start date', value=datetime.date(2024, 4, 1), disabled=False)\n",
    "display(start_date_widget)\n",
    "\n",
    "end_date_widget = ipywidgets.widgets.DatePicker(description='End date', value=datetime.date(2024, 4, 14), disabled=False)\n",
    "display(end_date_widget)"
   ]
  },
  {
   "attachments": {},
   "cell_type": "markdown",
   "metadata": {},
   "source": [
    "### Sentinel 2 (optical features)"
   ]
  },
  {
   "cell_type": "code",
   "execution_count": null,
   "metadata": {},
   "outputs": [],
   "source": [
    "# Get all the mean features for the crop fields inside the dataframe, within a time period, using sentinel 2 satellites\n",
    "fields_s2_features_extracted_df = ee_satellites.get_features(fields_df, start_date_widget.value, end_date_widget.value, satellite='sentinel-2', filters_params=['40'], fields_threads=5)\n",
    "# Add manure dates\n",
    "display(fields_s2_features_extracted_df)"
   ]
  },
  {
   "attachments": {},
   "cell_type": "markdown",
   "metadata": {},
   "source": [
    "#### Store the obtained dataset"
   ]
  },
  {
   "cell_type": "code",
   "execution_count": null,
   "metadata": {},
   "outputs": [],
   "source": [
    "# Compressed .csv files, to take less memory space\n",
    "filename = file_chooser.selected_path + '/' + file_chooser.selected_filename.split('.')[0]\n",
    "fields_s2_features_extracted_df.to_csv(filename + '-s2-features-extracted.gz', header=True, index=False, compression='gzip')"
   ]
  },
  {
   "attachments": {},
   "cell_type": "markdown",
   "metadata": {},
   "source": [
    "### Sentinel 1 (radar features)"
   ]
  },
  {
   "cell_type": "code",
   "execution_count": null,
   "metadata": {},
   "outputs": [],
   "source": [
    "# Get all the mean features for the crop fields inside the dataframe, within a time period, using sentinel 1 satellites\n",
    "fields_s1_features_extracted_df = ee_satellites.get_features(fields_df, start_date_widget.value, end_date_widget.value, satellite='sentinel-1', filters_params=['ASCENDING'], fields_threads=5)\n",
    "# Add manure dates\n",
    "display(fields_s1_features_extracted_df)"
   ]
  },
  {
   "attachments": {},
   "cell_type": "markdown",
   "metadata": {},
   "source": [
    "#### Store the obtained dataset"
   ]
  },
  {
   "cell_type": "code",
   "execution_count": null,
   "metadata": {},
   "outputs": [],
   "source": [
    "# Compressed .csv files, to take less memory space\n",
    "filename = file_chooser.selected_path + '/' + file_chooser.selected_filename.split('.')[0]\n",
    "fields_s1_features_extracted_df.to_csv(filename + '-s1-features-extracted.gz', header=True, index=False, compression='gzip')"
   ]
  },
  {
   "cell_type": "markdown",
   "metadata": {},
   "source": [
    "### Landsat 8 (optical + thermal features)"
   ]
  },
  {
   "cell_type": "code",
   "execution_count": null,
   "metadata": {},
   "outputs": [],
   "source": [
    "# Get all the mean features for the crop fields inside the dataframe, within a time period, using landsat 8 satellites\n",
    "fields_l8_features_extracted_df = ee_satellites.get_features(fields_df, start_date_widget.value, end_date_widget.value, satellite='landsat-8', fields_threads=5)\n",
    "# Add manure dates\n",
    "display(fields_l8_features_extracted_df)"
   ]
  },
  {
   "cell_type": "markdown",
   "metadata": {},
   "source": [
    "#### Store the obtained dataset"
   ]
  },
  {
   "cell_type": "code",
   "execution_count": null,
   "metadata": {},
   "outputs": [],
   "source": [
    "# Compressed .csv files, to take less memory space\n",
    "filename = file_chooser.selected_path + '/' + file_chooser.selected_filename.split('.')[0]\n",
    "fields_l8_features_extracted_df.to_csv(filename + '-l8-features-extracted.gz', header=True, index=False, compression='gzip')"
   ]
  }
 ],
 "metadata": {
  "kernelspec": {
   "display_name": "Python 3",
   "language": "python",
   "name": "python3"
  },
  "language_info": {
   "codemirror_mode": {
    "name": "ipython",
    "version": 3
   },
   "file_extension": ".py",
   "mimetype": "text/x-python",
   "name": "python",
   "nbconvert_exporter": "python",
   "pygments_lexer": "ipython3",
   "version": "3.8.10"
  },
  "orig_nbformat": 4,
  "vscode": {
   "interpreter": {
    "hash": "916dbcbb3f70747c44a77c7bcd40155683ae19c65e1c03b4aa3499c5328201f1"
   }
  }
 },
 "nbformat": 4,
 "nbformat_minor": 2
}
